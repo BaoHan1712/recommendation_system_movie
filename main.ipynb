{
 "cells": [
  {
   "cell_type": "markdown",
   "id": "9d2ef5ad",
   "metadata": {},
   "source": [
    "| File            | Mục đích                                                    | Cột chính                                  |\n",
    "| --------------- | ----------------------------------------------------------- | ------------------------------------------ |\n",
    "| **movies.csv**  | Thông tin phim (metadata)                                   | `movieId`, `title`, `genres`               |\n",
    "| **ratings.csv** | Dữ liệu đánh giá (interaction chính)                        | `userId`, `movieId`, `rating`, `timestamp` |\n",
    "| **tags.csv**    | Ghi chú / từ khóa do người dùng gắn cho phim (metadata phụ) | `userId`, `movieId`, `tag`, `timestamp`    |\n"
   ]
  },
  {
   "cell_type": "markdown",
   "id": "1eef2553",
   "metadata": {},
   "source": [
    "⚙️ Bước 1: Đọc dữ liệu"
   ]
  },
  {
   "cell_type": "code",
   "execution_count": 1,
   "id": "d82c19c6",
   "metadata": {},
   "outputs": [
    {
     "name": "stdout",
     "output_type": "stream",
     "text": [
      "   movieId                               title  \\\n",
      "0        1                    Toy Story (1995)   \n",
      "1        2                      Jumanji (1995)   \n",
      "2        3             Grumpier Old Men (1995)   \n",
      "3        4            Waiting to Exhale (1995)   \n",
      "4        5  Father of the Bride Part II (1995)   \n",
      "\n",
      "                                        genres  \n",
      "0  Adventure|Animation|Children|Comedy|Fantasy  \n",
      "1                   Adventure|Children|Fantasy  \n",
      "2                               Comedy|Romance  \n",
      "3                         Comedy|Drama|Romance  \n",
      "4                                       Comedy  \n",
      "   userId  movieId  rating  timestamp\n",
      "0       1        1     4.0  964982703\n",
      "1       1        3     4.0  964981247\n",
      "2       1        6     4.0  964982224\n",
      "3       1       47     5.0  964983815\n",
      "4       1       50     5.0  964982931\n",
      "   userId  movieId              tag   timestamp\n",
      "0       2    60756            funny  1445714994\n",
      "1       2    60756  Highly quotable  1445714996\n",
      "2       2    60756     will ferrell  1445714992\n",
      "3       2    89774     Boxing story  1445715207\n",
      "4       2    89774              MMA  1445715200\n",
      "9742 100836 3683\n"
     ]
    }
   ],
   "source": [
    "import pandas as pd\n",
    "\n",
    "movies = pd.read_csv(r'dataset\\movies.csv')\n",
    "ratings = pd.read_csv(r'dataset\\ratings.csv')\n",
    "tags = pd.read_csv(r'dataset\\tags.csv')\n",
    "\n",
    "print(movies.head())\n",
    "print(ratings.head())\n",
    "print(tags.head())\n",
    "print(len(movies), len(ratings), len(tags))\n"
   ]
  },
  {
   "cell_type": "markdown",
   "id": "ae6e1119",
   "metadata": {},
   "source": [
    "Làm sạch dữ liệu cơ bản"
   ]
  },
  {
   "cell_type": "code",
   "execution_count": 2,
   "id": "c9aa8367",
   "metadata": {},
   "outputs": [
    {
     "name": "stdout",
     "output_type": "stream",
     "text": [
      "movieId    0\n",
      "title      0\n",
      "genres     0\n",
      "dtype: int64\n",
      "userId       0\n",
      "movieId      0\n",
      "rating       0\n",
      "timestamp    0\n",
      "dtype: int64\n",
      "userId       0\n",
      "movieId      0\n",
      "tag          0\n",
      "timestamp    0\n",
      "dtype: int64\n"
     ]
    }
   ],
   "source": [
    "print(movies.isnull().sum())\n",
    "print(ratings.isnull().sum())\n",
    "print(tags.isnull().sum())\n",
    "movies = movies.dropna()\n",
    "ratings = ratings.dropna()\n",
    "tags = tags.dropna(subset=['tag'])"
   ]
  },
  {
   "cell_type": "code",
   "execution_count": 3,
   "id": "11642adc",
   "metadata": {},
   "outputs": [
    {
     "name": "stdout",
     "output_type": "stream",
     "text": [
      "9742 100836 3683\n"
     ]
    }
   ],
   "source": [
    "ratings = ratings.drop_duplicates()\n",
    "tags = tags.drop_duplicates()\n",
    "print(len(movies), len(ratings), len(tags))\n"
   ]
  },
  {
   "cell_type": "markdown",
   "id": "f239fe06",
   "metadata": {},
   "source": [
    "Gộp dữ liệu"
   ]
  },
  {
   "cell_type": "code",
   "execution_count": 4,
   "id": "a525f524",
   "metadata": {},
   "outputs": [
    {
     "name": "stdout",
     "output_type": "stream",
     "text": [
      "   userId  movieId  rating  timestamp                        title  \\\n",
      "0       1        1     4.0  964982703             Toy Story (1995)   \n",
      "1       1        3     4.0  964981247      Grumpier Old Men (1995)   \n",
      "2       1        6     4.0  964982224                  Heat (1995)   \n",
      "3       1       47     5.0  964983815  Seven (a.k.a. Se7en) (1995)   \n",
      "4       1       50     5.0  964982931   Usual Suspects, The (1995)   \n",
      "\n",
      "                                        genres  \n",
      "0  Adventure|Animation|Children|Comedy|Fantasy  \n",
      "1                               Comedy|Romance  \n",
      "2                        Action|Crime|Thriller  \n",
      "3                             Mystery|Thriller  \n",
      "4                       Crime|Mystery|Thriller  \n"
     ]
    }
   ],
   "source": [
    "data = pd.merge(ratings, movies, on='movieId', how='left')\n",
    "print(data.head())"
   ]
  },
  {
   "cell_type": "code",
   "execution_count": 5,
   "id": "68da96e3",
   "metadata": {},
   "outputs": [
    {
     "name": "stdout",
     "output_type": "stream",
     "text": [
      "----- Dữ liệu cột 'genres' sau khi xử lý -----\n",
      "đã lưu 👍:\n",
      "   userId  movieId  rating                        title  \\\n",
      "0       1        1     4.0             Toy Story (1995)   \n",
      "1       1        3     4.0      Grumpier Old Men (1995)   \n",
      "2       1        6     4.0                  Heat (1995)   \n",
      "3       1       47     5.0  Seven (a.k.a. Se7en) (1995)   \n",
      "4       1       50     5.0   Usual Suspects, The (1995)   \n",
      "\n",
      "                                        genres  \n",
      "0  Adventure,Animation,Children,Comedy,Fantasy  \n",
      "1                               Comedy,Romance  \n",
      "2                        Action,Crime,Thriller  \n",
      "3                             Mystery,Thriller  \n",
      "4                       Crime,Mystery,Thriller  \n"
     ]
    }
   ],
   "source": [
    "# Làm sạch cột 'genres'\n",
    "movies['genres'] = movies['genres'].str.replace('|', ',', regex=False)\n",
    "\n",
    "print(\"----- Dữ liệu cột 'genres' sau khi xử lý -----\")\n",
    "\n",
    "# Gộp dữ liệu\n",
    "data = pd.merge(ratings, movies, on='movieId', how='left')\n",
    "\n",
    "# Bỏ cột 'timestamp'\n",
    "data = data.drop(columns=['timestamp'])\n",
    "\n",
    "# Lưu file\n",
    "data.to_csv('merged_movie_data.csv', index=False, encoding='utf-8')\n",
    "print(\"đã lưu 👍:\")\n",
    "print(data.head())\n"
   ]
  },
  {
   "cell_type": "code",
   "execution_count": 6,
   "id": "968b3f85",
   "metadata": {},
   "outputs": [
    {
     "name": "stdout",
     "output_type": "stream",
     "text": [
      "   userId  movieId  rating                        title  \\\n",
      "0       1        1     4.0             Toy Story (1995)   \n",
      "1       1        3     4.0      Grumpier Old Men (1995)   \n",
      "2       1        6     4.0                  Heat (1995)   \n",
      "3       1       47     5.0  Seven (a.k.a. Se7en) (1995)   \n",
      "4       1       50     5.0   Usual Suspects, The (1995)   \n",
      "\n",
      "                                        genres  \n",
      "0  Adventure,Animation,Children,Comedy,Fantasy  \n",
      "1                               Comedy,Romance  \n",
      "2                        Action,Crime,Thriller  \n",
      "3                             Mystery,Thriller  \n",
      "4                       Crime,Mystery,Thriller  \n"
     ]
    }
   ],
   "source": [
    "data = pd.read_csv('merged_movie_data.csv')\n",
    "print(data.head())"
   ]
  },
  {
   "cell_type": "markdown",
   "id": "de680b75",
   "metadata": {},
   "source": [
    "import thư viện cần thiết\n",
    "\n",
    "```python"
   ]
  },
  {
   "cell_type": "code",
   "execution_count": 19,
   "id": "0e1eb73e",
   "metadata": {},
   "outputs": [
    {
     "name": "stdout",
     "output_type": "stream",
     "text": [
      "📄 Dữ liệu mẫu:\n",
      "   userId  movieId  rating                        title  \\\n",
      "0       1        1     4.0             Toy Story (1995)   \n",
      "1       1        3     4.0      Grumpier Old Men (1995)   \n",
      "2       1        6     4.0                  Heat (1995)   \n",
      "3       1       47     5.0  Seven (a.k.a. Se7en) (1995)   \n",
      "4       1       50     5.0   Usual Suspects, The (1995)   \n",
      "\n",
      "                                        genres  \n",
      "0  Adventure,Animation,Children,Comedy,Fantasy  \n",
      "1                               Comedy,Romance  \n",
      "2                        Action,Crime,Thriller  \n",
      "3                             Mystery,Thriller  \n",
      "4                       Crime,Mystery,Thriller  \n"
     ]
    }
   ],
   "source": [
    "# Cell 1\n",
    "import pandas as pd\n",
    "import numpy as np\n",
    "from sklearn.feature_extraction.text import TfidfVectorizer\n",
    "from sklearn.metrics.pairwise import linear_kernel\n",
    "from surprise import SVD, Dataset, Reader\n",
    "from surprise.model_selection import train_test_split\n",
    "\n",
    "# Đọc dữ liệu\n",
    "data = pd.read_csv('merged_movie_data.csv')\n",
    "# data = data.sample(10000, random_state=42)\n",
    "print(\"📄 Dữ liệu mẫu:\")\n",
    "print(data.head())\n"
   ]
  },
  {
   "cell_type": "code",
   "execution_count": 8,
   "id": "a24876aa",
   "metadata": {},
   "outputs": [
    {
     "name": "stdout",
     "output_type": "stream",
     "text": [
      "✅ Số phim duy nhất còn lại: 9724\n",
      "   movieId                        title\n",
      "0        1             Toy Story (1995)\n",
      "1        3      Grumpier Old Men (1995)\n",
      "2        6                  Heat (1995)\n",
      "3       47  Seven (a.k.a. Se7en) (1995)\n",
      "4       50   Usual Suspects, The (1995)\n"
     ]
    }
   ],
   "source": [
    "# Loại bỏ phim trùng lặp trước khi xử lý genres\n",
    "data = data.drop_duplicates(subset=['movieId', 'title']).reset_index(drop=True)\n",
    "\n",
    "# Kiểm tra số lượng sau khi loại trùng\n",
    "print(\"✅ Số phim duy nhất còn lại:\", len(data))\n",
    "print(data[['movieId', 'title']].head())"
   ]
  },
  {
   "cell_type": "code",
   "execution_count": 9,
   "id": "fae6d25b",
   "metadata": {},
   "outputs": [
    {
     "name": "stdout",
     "output_type": "stream",
     "text": [
      "✅ Sau xử lý cột genres:\n",
      "                         title                                       genres\n",
      "0             Toy Story (1995)  Adventure,Animation,Children,Comedy,Fantasy\n",
      "1      Grumpier Old Men (1995)                               Comedy,Romance\n",
      "2                  Heat (1995)                        Action,Crime,Thriller\n",
      "3  Seven (a.k.a. Se7en) (1995)                             Mystery,Thriller\n",
      "4   Usual Suspects, The (1995)                       Crime,Mystery,Thriller\n"
     ]
    }
   ],
   "source": [
    "# Điền giá trị trống trong 'genres'\n",
    "data['genres'] = data['genres'].fillna('')\n",
    "\n",
    "# Chuẩn hóa chuỗi: bỏ khoảng trắng thừa\n",
    "data['genres'] = data['genres'].str.replace(' ', '')\n",
    "\n",
    "# Kiểm tra lại dữ liệu sau xử lý\n",
    "print(\"✅ Sau xử lý cột genres:\")\n",
    "print(data[['title', 'genres']].head())\n"
   ]
  },
  {
   "cell_type": "code",
   "execution_count": 10,
   "id": "b0eb7611",
   "metadata": {},
   "outputs": [
    {
     "name": "stdout",
     "output_type": "stream",
     "text": [
      "✅ TF-IDF và cosine similarity đã tạo đồng bộ!\n"
     ]
    }
   ],
   "source": [
    "from sklearn.feature_extraction.text import TfidfVectorizer\n",
    "from sklearn.metrics.pairwise import linear_kernel\n",
    "\n",
    "# Reset lại index để đồng bộ thứ tự\n",
    "data = data.reset_index(drop=True)\n",
    "\n",
    "# TF-IDF vectorizer\n",
    "tfidf = TfidfVectorizer(token_pattern=r\"[^,]+\")\n",
    "tfidf_matrix = tfidf.fit_transform(data['genres'])\n",
    "\n",
    "# Tính cosine similarity\n",
    "cosine_sim = linear_kernel(tfidf_matrix, tfidf_matrix)\n",
    "\n",
    "# Tạo mapping chính xác: title → vị trí (0..len(data)-1)\n",
    "indices = pd.Series(data.index, index=data['title']).drop_duplicates()\n",
    "\n",
    "print(\"✅ TF-IDF và cosine similarity đã tạo đồng bộ!\")\n"
   ]
  },
  {
   "cell_type": "markdown",
   "id": "e7d794f0",
   "metadata": {},
   "source": [
    "Hàm lưu model"
   ]
  },
  {
   "cell_type": "code",
   "execution_count": 11,
   "id": "ba9ce60d",
   "metadata": {},
   "outputs": [],
   "source": [
    "import pickle\n",
    "\n",
    "def save_model(model, path='svd_model.pkl'):\n",
    "    \"\"\"Lưu mô hình Surprise SVD vào file\"\"\"\n",
    "    with open(path, 'wb') as f:\n",
    "        pickle.dump(model, f)\n",
    "    print(f\"✅ Mô hình đã được lưu vào '{path}'\")\n",
    "\n",
    "def load_model(path='svd_model.pkl'):\n",
    "    \"\"\"Load mô hình Surprise SVD từ file\"\"\"\n",
    "    with open(path, 'rb') as f:\n",
    "        model = pickle.load(f)\n",
    "    print(f\"✅ Mô hình đã được load từ '{path}'\")\n",
    "    return model\n"
   ]
  },
  {
   "cell_type": "code",
   "execution_count": 12,
   "id": "6fd8aed6",
   "metadata": {},
   "outputs": [
    {
     "name": "stdout",
     "output_type": "stream",
     "text": [
      "✅ Mô hình đã được lưu vào 'svd_model.pkl'\n"
     ]
    }
   ],
   "source": [
    "from surprise import SVD, Dataset, Reader\n",
    "from surprise.model_selection import train_test_split, cross_validate\n",
    "\n",
    "# Cấu hình Reader cho dữ liệu rating (thang điểm 0.5–5.0)\n",
    "reader = Reader(rating_scale=(0.5, 5.0))\n",
    "\n",
    "# Chỉ lấy các cột cần thiết\n",
    "data_surprise = Dataset.load_from_df(data[['userId', 'movieId', 'rating']], reader)\n",
    "\n",
    "# Chia train/test\n",
    "trainset, testset = train_test_split(data_surprise, test_size=0.2, random_state=42)\n",
    "\n",
    "# Huấn luyện mô hình SVD\n",
    "model = SVD(n_factors=50, random_state=42)\n",
    "model.fit(trainset)\n",
    "\n",
    "# Lưu mô hình\n",
    "save_model(model, path='svd_model.pkl')\n",
    "\n",
    "# Dự đoán ví dụ\n",
    "predictions = model.test(testset)\n"
   ]
  },
  {
   "cell_type": "markdown",
   "id": "c79f053c",
   "metadata": {},
   "source": [
    "Đánh giá mô hình bằng RMSE, MAE"
   ]
  },
  {
   "cell_type": "code",
   "execution_count": 13,
   "id": "752f0b84",
   "metadata": {},
   "outputs": [
    {
     "name": "stdout",
     "output_type": "stream",
     "text": [
      "RMSE: 0.9412\n",
      "MAE:  0.7390\n",
      "✅ RMSE: 0.9412\n",
      "✅ MAE : 0.7390\n"
     ]
    }
   ],
   "source": [
    "from surprise import accuracy\n",
    "\n",
    "rmse = accuracy.rmse(predictions)\n",
    "mae = accuracy.mae(predictions)\n",
    "\n",
    "print(f\"✅ RMSE: {rmse:.4f}\")\n",
    "print(f\"✅ MAE : {mae:.4f}\")\n"
   ]
  },
  {
   "cell_type": "markdown",
   "id": "b98893f4",
   "metadata": {},
   "source": [
    "Đánh giá bằng Precision, Recall, F1"
   ]
  },
  {
   "cell_type": "code",
   "execution_count": 14,
   "id": "a78587f2",
   "metadata": {},
   "outputs": [
    {
     "name": "stdout",
     "output_type": "stream",
     "text": [
      "✅ Precision@10: 0.7233\n",
      "✅ Recall@10   : 0.7619\n"
     ]
    }
   ],
   "source": [
    "from collections import defaultdict\n",
    "\n",
    "def get_top_n(predictions, n=10):\n",
    "    '''Trả về top-n phim được đề xuất cho từng user'''\n",
    "    top_n = defaultdict(list)\n",
    "    for uid, iid, true_r, est, _ in predictions:\n",
    "        top_n[uid].append((iid, est))\n",
    "    for uid, user_ratings in top_n.items():\n",
    "        user_ratings.sort(key=lambda x: x[1], reverse=True)\n",
    "        top_n[uid] = user_ratings[:n]\n",
    "    return top_n\n",
    "\n",
    "def precision_recall_at_k(predictions, k=10, threshold=3.5):\n",
    "    '''Tính Precision@K và Recall@K'''\n",
    "    user_est_true = defaultdict(list)\n",
    "    for uid, iid, true_r, est, _ in predictions:\n",
    "        user_est_true[uid].append((est, true_r))\n",
    "\n",
    "    precisions, recalls = {}, {}\n",
    "    for uid, user_ratings in user_est_true.items():\n",
    "        user_ratings.sort(key=lambda x: x[0], reverse=True)\n",
    "        n_rel = sum((true_r >= threshold) for (_, true_r) in user_ratings)\n",
    "        n_rec_k = sum((est >= threshold) for (est, _) in user_ratings[:k])\n",
    "        n_rel_and_rec_k = sum(((true_r >= threshold) and (est >= threshold))\n",
    "                              for (est, true_r) in user_ratings[:k])\n",
    "        precisions[uid] = n_rel_and_rec_k / n_rec_k if n_rec_k != 0 else 0\n",
    "        recalls[uid] = n_rel_and_rec_k / n_rel if n_rel != 0 else 0\n",
    "\n",
    "    return sum(precisions.values()) / len(precisions), sum(recalls.values()) / len(recalls)\n",
    "\n",
    "# k quyết định số lượng gợi ý hàng đầu, threshold là giá trị rating mà bạn coi là user thích\n",
    "precision, recall = precision_recall_at_k(predictions, k=20, threshold=3) \n",
    "print(f\"✅ Precision@10: {precision:.4f}\")\n",
    "print(f\"✅ Recall@10   : {recall:.4f}\")\n"
   ]
  },
  {
   "cell_type": "code",
   "execution_count": 15,
   "id": "e11d6b56",
   "metadata": {},
   "outputs": [
    {
     "data": {
      "image/png": "[encoded data removed]",
      "text/plain": [
       "<Figure size 800x500 with 1 Axes>"
      ]
     },
     "metadata": {},
     "output_type": "display_data"
    }
   ],
   "source": [
    "import matplotlib.pyplot as plt\n",
    "\n",
    "metrics = ['RMSE', 'MAE', 'Precision@10', 'Recall@10']\n",
    "values = [rmse, mae, precision, recall]\n",
    "\n",
    "plt.figure(figsize=(8,5))\n",
    "plt.bar(metrics, values)\n",
    "plt.title(\"Đánh giá mô hình gợi ý (SVD)\")\n",
    "plt.ylabel(\"Giá trị\")\n",
    "plt.grid(axis='y')\n",
    "plt.show()\n"
   ]
  },
  {
   "cell_type": "code",
   "execution_count": 16,
   "id": "35b4eef2",
   "metadata": {},
   "outputs": [],
   "source": [
    "def hybrid_recommend(user_id, title, top_n=5):\n",
    "    if title not in indices:\n",
    "        return f\"❌ Phim '{title}' không tồn tại trong dataset.\"\n",
    "    \n",
    "    idx = indices[title]\n",
    "    if isinstance(idx, pd.Series):  # nếu có nhiều bản trùng\n",
    "        idx = idx.iloc[0]           # chọn bản đầu tiên\n",
    "\n",
    "    # --- Content-based ---\n",
    "    sim_scores = list(enumerate(cosine_sim[idx]))\n",
    "    sim_scores = sorted(sim_scores, key=lambda x: x[1], reverse=True)\n",
    "    sim_scores = sim_scores[1:50]\n",
    "    \n",
    "    movie_indices = [i[0] for i in sim_scores]\n",
    "    similar_movies = data.iloc[movie_indices][['movieId', 'title', 'genres']].copy()\n",
    "\n",
    "    # --- Collaborative Filtering ---\n",
    "    similar_movies['est_rating'] = similar_movies['movieId'].apply(\n",
    "        lambda x: model.predict(user_id, x).est\n",
    "    )\n",
    "\n",
    "    # --- Trả kết quả ---\n",
    "    recommendations = similar_movies.sort_values('est_rating', ascending=False).head(top_n)\n",
    "    return recommendations[['title', 'genres', 'est_rating']]\n"
   ]
  },
  {
   "cell_type": "code",
   "execution_count": 17,
   "id": "7aa56c00",
   "metadata": {},
   "outputs": [
    {
     "name": "stdout",
     "output_type": "stream",
     "text": [
      "4348\n",
      "(9724, 9724)\n"
     ]
    }
   ],
   "source": [
    "movie_input = \"Presto (2008)\"\n",
    "print(indices[movie_input])\n",
    "print(cosine_sim.shape)\n"
   ]
  },
  {
   "cell_type": "markdown",
   "id": "49bfee3e",
   "metadata": {},
   "source": [
    "Test với id là 2"
   ]
  },
  {
   "cell_type": "code",
   "execution_count": 18,
   "id": "5e4de899",
   "metadata": {},
   "outputs": [
    {
     "name": "stdout",
     "output_type": "stream",
     "text": [
      "🎬 Gợi ý cho user 2 dựa trên phim 'Presto (2008)':\n",
      "\n",
      "                                              title  \\\n",
      "7709  Puss in Boots (Nagagutsu o haita neko) (1969)   \n",
      "1592                                    Antz (1998)   \n",
      "122                      Black Cauldron, The (1985)   \n",
      "817                                     Cars (2006)   \n",
      "4448                    Wow! A Talking Fish! (1983)   \n",
      "4836                       Last Unicorn, The (1982)   \n",
      "1905                         Shrek the Third (2007)   \n",
      "4348                                  Presto (2008)   \n",
      "4624                                   Moana (2016)   \n",
      "4439            Last Year's Snow Was Falling (1983)   \n",
      "\n",
      "                                                 genres  est_rating  \n",
      "7709  Adventure,Animation,Children,Comedy,Fantasy,Ro...    4.127959  \n",
      "1592        Adventure,Animation,Children,Comedy,Fantasy    4.123208  \n",
      "122                Adventure,Animation,Children,Fantasy    4.121290  \n",
      "817                           Animation,Children,Comedy    4.114372  \n",
      "4448                  Animation,Children,Comedy,Fantasy    4.096428  \n",
      "4836                         Animation,Children,Fantasy    4.088669  \n",
      "1905        Adventure,Animation,Children,Comedy,Fantasy    4.082704  \n",
      "4348                  Animation,Children,Comedy,Fantasy    4.081503  \n",
      "4624        Adventure,Animation,Children,Comedy,Fantasy    4.077029  \n",
      "4439                  Animation,Children,Comedy,Fantasy    4.059540  \n"
     ]
    }
   ],
   "source": [
    "user_id = 2\n",
    "movie_input = \"Presto (2008)\"\n",
    "\n",
    "print(f\"🎬 Gợi ý cho user {user_id} dựa trên phim '{movie_input}':\\n\")\n",
    "recommendations = hybrid_recommend(user_id, movie_input, top_n=10)\n",
    "print(recommendations)\n"
   ]
  }
 ],
 "metadata": {
  "kernelspec": {
   "display_name": "pyenv",
   "language": "python",
   "name": "python3"
  },
  "language_info": {
   "codemirror_mode": {
    "name": "ipython",
    "version": 3
   },
   "file_extension": ".py",
   "mimetype": "text/x-python",
   "name": "python",
   "nbconvert_exporter": "python",
   "pygments_lexer": "ipython3",
   "version": "3.9.24"
  }
 },
 "nbformat": 4,
 "nbformat_minor": 5
}
