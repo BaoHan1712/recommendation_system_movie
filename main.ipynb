{
 "cells": [
  {
   "cell_type": "markdown",
   "id": "9d2ef5ad",
   "metadata": {},
   "source": [
    "| File            | Mục đích                                                    | Cột chính                                  |\n",
    "| --------------- | ----------------------------------------------------------- | ------------------------------------------ |\n",
    "| **movies.csv**  | Thông tin phim (metadata)                                   | `movieId`, `title`, `genres`               |\n",
    "| **ratings.csv** | Dữ liệu đánh giá (interaction chính)                        | `userId`, `movieId`, `rating`, `timestamp` |\n",
    "| **tags.csv**    | Ghi chú / từ khóa do người dùng gắn cho phim (metadata phụ) | `userId`, `movieId`, `tag`, `timestamp`    |\n"
   ]
  },
  {
   "cell_type": "markdown",
   "id": "1eef2553",
   "metadata": {},
   "source": [
    "⚙️ Bước 1: Đọc dữ liệu"
   ]
  },
  {
   "cell_type": "code",
   "execution_count": 1,
   "id": "d82c19c6",
   "metadata": {},
   "outputs": [
    {
     "name": "stdout",
     "output_type": "stream",
     "text": [
      "   movieId                               title  \\\n",
      "0        1                    Toy Story (1995)   \n",
      "1        2                      Jumanji (1995)   \n",
      "2        3             Grumpier Old Men (1995)   \n",
      "3        4            Waiting to Exhale (1995)   \n",
      "4        5  Father of the Bride Part II (1995)   \n",
      "\n",
      "                                        genres  \n",
      "0  Adventure|Animation|Children|Comedy|Fantasy  \n",
      "1                   Adventure|Children|Fantasy  \n",
      "2                               Comedy|Romance  \n",
      "3                         Comedy|Drama|Romance  \n",
      "4                                       Comedy  \n",
      "   userId  movieId  rating  timestamp\n",
      "0       1        1     4.0  964982703\n",
      "1       1        3     4.0  964981247\n",
      "2       1        6     4.0  964982224\n",
      "3       1       47     5.0  964983815\n",
      "4       1       50     5.0  964982931\n",
      "   userId  movieId              tag   timestamp\n",
      "0       2    60756            funny  1445714994\n",
      "1       2    60756  Highly quotable  1445714996\n",
      "2       2    60756     will ferrell  1445714992\n",
      "3       2    89774     Boxing story  1445715207\n",
      "4       2    89774              MMA  1445715200\n",
      "9742 100836 3683\n"
     ]
    }
   ],
   "source": [
    "import pandas as pd\n",
    "\n",
    "movies = pd.read_csv(r'dataset\\movies.csv')\n",
    "ratings = pd.read_csv(r'dataset\\ratings.csv')\n",
    "tags = pd.read_csv(r'dataset\\tags.csv')\n",
    "\n",
    "print(movies.head())\n",
    "print(ratings.head())\n",
    "print(tags.head())\n",
    "print(len(movies), len(ratings), len(tags))\n"
   ]
  },
  {
   "cell_type": "markdown",
   "id": "ae6e1119",
   "metadata": {},
   "source": [
    "Làm sạch dữ liệu cơ bản"
   ]
  },
  {
   "cell_type": "code",
   "execution_count": 2,
   "id": "c9aa8367",
   "metadata": {},
   "outputs": [
    {
     "name": "stdout",
     "output_type": "stream",
     "text": [
      "movieId    0\n",
      "title      0\n",
      "genres     0\n",
      "dtype: int64\n",
      "userId       0\n",
      "movieId      0\n",
      "rating       0\n",
      "timestamp    0\n",
      "dtype: int64\n",
      "userId       0\n",
      "movieId      0\n",
      "tag          0\n",
      "timestamp    0\n",
      "dtype: int64\n"
     ]
    }
   ],
   "source": [
    "print(movies.isnull().sum())\n",
    "print(ratings.isnull().sum())\n",
    "print(tags.isnull().sum())\n",
    "movies = movies.dropna()\n",
    "ratings = ratings.dropna()\n",
    "tags = tags.dropna(subset=['tag'])"
   ]
  },
  {
   "cell_type": "code",
   "execution_count": 3,
   "id": "11642adc",
   "metadata": {},
   "outputs": [
    {
     "name": "stdout",
     "output_type": "stream",
     "text": [
      "9742 100836 3683\n"
     ]
    }
   ],
   "source": [
    "ratings = ratings.drop_duplicates()\n",
    "tags = tags.drop_duplicates()\n",
    "print(len(movies), len(ratings), len(tags))\n"
   ]
  },
  {
   "cell_type": "markdown",
   "id": "f239fe06",
   "metadata": {},
   "source": [
    "Gộp dữ liệu"
   ]
  },
  {
   "cell_type": "code",
   "execution_count": 4,
   "id": "a525f524",
   "metadata": {},
   "outputs": [
    {
     "name": "stdout",
     "output_type": "stream",
     "text": [
      "   userId  movieId  rating  timestamp                        title  \\\n",
      "0       1        1     4.0  964982703             Toy Story (1995)   \n",
      "1       1        3     4.0  964981247      Grumpier Old Men (1995)   \n",
      "2       1        6     4.0  964982224                  Heat (1995)   \n",
      "3       1       47     5.0  964983815  Seven (a.k.a. Se7en) (1995)   \n",
      "4       1       50     5.0  964982931   Usual Suspects, The (1995)   \n",
      "\n",
      "                                        genres  \n",
      "0  Adventure|Animation|Children|Comedy|Fantasy  \n",
      "1                               Comedy|Romance  \n",
      "2                        Action|Crime|Thriller  \n",
      "3                             Mystery|Thriller  \n",
      "4                       Crime|Mystery|Thriller  \n"
     ]
    }
   ],
   "source": [
    "data = pd.merge(ratings, movies, on='movieId', how='left')\n",
    "print(data.head())"
   ]
  },
  {
   "cell_type": "code",
   "execution_count": 5,
   "id": "68da96e3",
   "metadata": {},
   "outputs": [
    {
     "name": "stdout",
     "output_type": "stream",
     "text": [
      "----- Dữ liệu cột 'genres' sau khi xử lý -----\n",
      "đã lưu 👍:\n",
      "   userId  movieId  rating                        title  \\\n",
      "0       1        1     4.0             Toy Story (1995)   \n",
      "1       1        3     4.0      Grumpier Old Men (1995)   \n",
      "2       1        6     4.0                  Heat (1995)   \n",
      "3       1       47     5.0  Seven (a.k.a. Se7en) (1995)   \n",
      "4       1       50     5.0   Usual Suspects, The (1995)   \n",
      "\n",
      "                                        genres  \n",
      "0  Adventure,Animation,Children,Comedy,Fantasy  \n",
      "1                               Comedy,Romance  \n",
      "2                        Action,Crime,Thriller  \n",
      "3                             Mystery,Thriller  \n",
      "4                       Crime,Mystery,Thriller  \n"
     ]
    }
   ],
   "source": [
    "# Làm sạch cột 'genres'\n",
    "movies['genres'] = movies['genres'].str.replace('|', ',', regex=False)\n",
    "\n",
    "print(\"----- Dữ liệu cột 'genres' sau khi xử lý -----\")\n",
    "\n",
    "# Gộp dữ liệu\n",
    "data = pd.merge(ratings, movies, on='movieId', how='left')\n",
    "\n",
    "# Bỏ cột 'timestamp'\n",
    "data = data.drop(columns=['timestamp'])\n",
    "\n",
    "# Lưu file\n",
    "data.to_csv('merged_movie_data.csv', index=False, encoding='utf-8')\n",
    "print(\"đã lưu 👍:\")\n",
    "print(data.head())\n"
   ]
  },
  {
   "cell_type": "code",
   "execution_count": 6,
   "id": "968b3f85",
   "metadata": {},
   "outputs": [
    {
     "name": "stdout",
     "output_type": "stream",
     "text": [
      "   userId  movieId  rating                        title  \\\n",
      "0       1        1     4.0             Toy Story (1995)   \n",
      "1       1        3     4.0      Grumpier Old Men (1995)   \n",
      "2       1        6     4.0                  Heat (1995)   \n",
      "3       1       47     5.0  Seven (a.k.a. Se7en) (1995)   \n",
      "4       1       50     5.0   Usual Suspects, The (1995)   \n",
      "\n",
      "                                        genres  \n",
      "0  Adventure,Animation,Children,Comedy,Fantasy  \n",
      "1                               Comedy,Romance  \n",
      "2                        Action,Crime,Thriller  \n",
      "3                             Mystery,Thriller  \n",
      "4                       Crime,Mystery,Thriller  \n"
     ]
    }
   ],
   "source": [
    "data = pd.read_csv('merged_movie_data.csv')\n",
    "print(data.head())"
   ]
  },
  {
   "cell_type": "markdown",
   "id": "de680b75",
   "metadata": {},
   "source": [
    "import thư viện cần thiết\n",
    "\n",
    "```python"
   ]
  },
  {
   "cell_type": "code",
   "execution_count": 48,
   "id": "0e1eb73e",
   "metadata": {},
   "outputs": [
    {
     "name": "stdout",
     "output_type": "stream",
     "text": [
      "📄 Dữ liệu mẫu:\n",
      "   userId  movieId  rating                        title  \\\n",
      "0       1        1     4.0             Toy Story (1995)   \n",
      "1       1        3     4.0      Grumpier Old Men (1995)   \n",
      "2       1        6     4.0                  Heat (1995)   \n",
      "3       1       47     5.0  Seven (a.k.a. Se7en) (1995)   \n",
      "4       1       50     5.0   Usual Suspects, The (1995)   \n",
      "\n",
      "                                        genres  \n",
      "0  Adventure,Animation,Children,Comedy,Fantasy  \n",
      "1                               Comedy,Romance  \n",
      "2                        Action,Crime,Thriller  \n",
      "3                             Mystery,Thriller  \n",
      "4                       Crime,Mystery,Thriller  \n"
     ]
    }
   ],
   "source": [
    "# Cell 1\n",
    "import pandas as pd\n",
    "import numpy as np\n",
    "from sklearn.feature_extraction.text import TfidfVectorizer\n",
    "from sklearn.metrics.pairwise import linear_kernel\n",
    "from surprise import SVD, Dataset, Reader\n",
    "from surprise.model_selection import train_test_split\n",
    "\n",
    "# Đọc dữ liệu\n",
    "data = pd.read_csv('merged_movie_data.csv')\n",
    "# data = data.sample(10000, random_state=42)\n",
    "print(\"📄 Dữ liệu mẫu:\")\n",
    "print(data.head())\n"
   ]
  },
  {
   "cell_type": "code",
   "execution_count": 50,
   "id": "a24876aa",
   "metadata": {},
   "outputs": [
    {
     "name": "stdout",
     "output_type": "stream",
     "text": [
      "✅ Số phim duy nhất còn lại: 9724\n",
      "   movieId                        title\n",
      "0        1             Toy Story (1995)\n",
      "1        3      Grumpier Old Men (1995)\n",
      "2        6                  Heat (1995)\n",
      "3       47  Seven (a.k.a. Se7en) (1995)\n",
      "4       50   Usual Suspects, The (1995)\n"
     ]
    }
   ],
   "source": [
    "# Loại bỏ phim trùng lặp trước khi xử lý genres\n",
    "data = data.drop_duplicates(subset=['movieId', 'title']).reset_index(drop=True)\n",
    "\n",
    "# Kiểm tra số lượng sau khi loại trùng\n",
    "print(\"✅ Số phim duy nhất còn lại:\", len(data))\n",
    "print(data[['movieId', 'title']].head())"
   ]
  },
  {
   "cell_type": "code",
   "execution_count": 51,
   "id": "fae6d25b",
   "metadata": {},
   "outputs": [
    {
     "name": "stdout",
     "output_type": "stream",
     "text": [
      "✅ Sau xử lý cột genres:\n",
      "                         title                                       genres\n",
      "0             Toy Story (1995)  Adventure,Animation,Children,Comedy,Fantasy\n",
      "1      Grumpier Old Men (1995)                               Comedy,Romance\n",
      "2                  Heat (1995)                        Action,Crime,Thriller\n",
      "3  Seven (a.k.a. Se7en) (1995)                             Mystery,Thriller\n",
      "4   Usual Suspects, The (1995)                       Crime,Mystery,Thriller\n"
     ]
    }
   ],
   "source": [
    "# Cell 2\n",
    "# Điền giá trị trống trong 'genres'\n",
    "data['genres'] = data['genres'].fillna('')\n",
    "\n",
    "# Chuẩn hóa chuỗi: bỏ khoảng trắng thừa\n",
    "data['genres'] = data['genres'].str.replace(' ', '')\n",
    "\n",
    "# Kiểm tra lại dữ liệu sau xử lý\n",
    "print(\"✅ Sau xử lý cột genres:\")\n",
    "print(data[['title', 'genres']].head())\n"
   ]
  },
  {
   "cell_type": "code",
   "execution_count": 52,
   "id": "b0eb7611",
   "metadata": {},
   "outputs": [
    {
     "name": "stdout",
     "output_type": "stream",
     "text": [
      "✅ TF-IDF và cosine similarity đã tạo đồng bộ!\n"
     ]
    }
   ],
   "source": [
    "# Cell 3 — xử lý lại TF-IDF an toàn\n",
    "from sklearn.feature_extraction.text import TfidfVectorizer\n",
    "from sklearn.metrics.pairwise import linear_kernel\n",
    "\n",
    "# Reset lại index để đồng bộ thứ tự\n",
    "data = data.reset_index(drop=True)\n",
    "\n",
    "# TF-IDF vectorizer\n",
    "tfidf = TfidfVectorizer(token_pattern=r\"[^,]+\")\n",
    "tfidf_matrix = tfidf.fit_transform(data['genres'])\n",
    "\n",
    "# Tính cosine similarity\n",
    "cosine_sim = linear_kernel(tfidf_matrix, tfidf_matrix)\n",
    "\n",
    "# Tạo mapping chính xác: title → vị trí (0..len(data)-1)\n",
    "indices = pd.Series(data.index, index=data['title']).drop_duplicates()\n",
    "\n",
    "print(\"✅ TF-IDF và cosine similarity đã tạo đồng bộ!\")\n"
   ]
  },
  {
   "cell_type": "code",
   "execution_count": 53,
   "id": "6fd8aed6",
   "metadata": {},
   "outputs": [
    {
     "name": "stdout",
     "output_type": "stream",
     "text": [
      "✅ Huấn luyện mô hình SVD xong!\n"
     ]
    }
   ],
   "source": [
    "# Cell 4\n",
    "# Chuẩn bị dữ liệu cho Surprise\n",
    "reader = Reader(rating_scale=(0.5, 5.0))\n",
    "dataset = Dataset.load_from_df(data[['userId', 'movieId', 'rating']], reader)\n",
    "\n",
    "# Chia tập train/test\n",
    "trainset, testset = train_test_split(dataset, test_size=0.3, random_state=42)\n",
    "\n",
    "# Khởi tạo mô hình SVD\n",
    "model = SVD(n_factors=50, random_state=42)\n",
    "model.fit(trainset)\n",
    "\n",
    "print(\"✅ Huấn luyện mô hình SVD xong!\")\n"
   ]
  },
  {
   "cell_type": "code",
   "execution_count": 54,
   "id": "35b4eef2",
   "metadata": {},
   "outputs": [],
   "source": [
    "def hybrid_recommend(user_id, title, top_n=5):\n",
    "    if title not in indices:\n",
    "        return f\"❌ Phim '{title}' không tồn tại trong dataset.\"\n",
    "    \n",
    "    idx = indices[title]\n",
    "    if isinstance(idx, pd.Series):  # nếu có nhiều bản trùng\n",
    "        idx = idx.iloc[0]           # chọn bản đầu tiên\n",
    "\n",
    "    # --- Content-based ---\n",
    "    sim_scores = list(enumerate(cosine_sim[idx]))\n",
    "    sim_scores = sorted(sim_scores, key=lambda x: x[1], reverse=True)\n",
    "    sim_scores = sim_scores[1:50]\n",
    "    \n",
    "    movie_indices = [i[0] for i in sim_scores]\n",
    "    similar_movies = data.iloc[movie_indices][['movieId', 'title', 'genres']].copy()\n",
    "\n",
    "    # --- Collaborative Filtering ---\n",
    "    similar_movies['est_rating'] = similar_movies['movieId'].apply(\n",
    "        lambda x: model.predict(user_id, x).est\n",
    "    )\n",
    "\n",
    "    # --- Trả kết quả ---\n",
    "    recommendations = similar_movies.sort_values('est_rating', ascending=False).head(top_n)\n",
    "    return recommendations[['title', 'genres', 'est_rating']]\n"
   ]
  },
  {
   "cell_type": "code",
   "execution_count": 55,
   "id": "7aa56c00",
   "metadata": {},
   "outputs": [
    {
     "name": "stdout",
     "output_type": "stream",
     "text": [
      "0\n",
      "(9724, 9724)\n"
     ]
    }
   ],
   "source": [
    "movie_input = \"Toy Story (1995)\"\n",
    "print(indices[movie_input])\n",
    "print(cosine_sim.shape)\n"
   ]
  },
  {
   "cell_type": "code",
   "execution_count": 56,
   "id": "5e4de899",
   "metadata": {},
   "outputs": [
    {
     "name": "stdout",
     "output_type": "stream",
     "text": [
      "🎬 Gợi ý cho user 1 dựa trên phim 'Toy Story (1995)':\n",
      "\n",
      "                                    title  \\\n",
      "135         Lord of the Rings, The (1978)   \n",
      "744                          Shrek (2001)   \n",
      "4439  Last Year's Snow Was Falling (1983)   \n",
      "4348                        Presto (2008)   \n",
      "751                 Monsters, Inc. (2001)   \n",
      "\n",
      "                                                 genres  est_rating  \n",
      "135                Adventure,Animation,Children,Fantasy    4.556899  \n",
      "744   Adventure,Animation,Children,Comedy,Fantasy,Ro...    4.544878  \n",
      "4439                  Animation,Children,Comedy,Fantasy    4.539099  \n",
      "4348                  Animation,Children,Comedy,Fantasy    4.525394  \n",
      "751         Adventure,Animation,Children,Comedy,Fantasy    4.521306  \n"
     ]
    }
   ],
   "source": [
    "user_id = 1\n",
    "movie_input = \"Toy Story (1995)\"\n",
    "\n",
    "print(f\"🎬 Gợi ý cho user {user_id} dựa trên phim '{movie_input}':\\n\")\n",
    "recommendations = hybrid_recommend(user_id, movie_input, top_n=5)\n",
    "print(recommendations)\n"
   ]
  }
 ],
 "metadata": {
  "kernelspec": {
   "display_name": "pyenv",
   "language": "python",
   "name": "python3"
  },
  "language_info": {
   "codemirror_mode": {
    "name": "ipython",
    "version": 3
   },
   "file_extension": ".py",
   "mimetype": "text/x-python",
   "name": "python",
   "nbconvert_exporter": "python",
   "pygments_lexer": "ipython3",
   "version": "3.9.24"
  }
 },
 "nbformat": 4,
 "nbformat_minor": 5
}
